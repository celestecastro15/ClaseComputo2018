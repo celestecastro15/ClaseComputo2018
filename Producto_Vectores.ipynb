{
 "cells": [
  {
   "cell_type": "markdown",
   "metadata": {},
   "source": [
    "<div class=\"alert alert-success\" role=\"alert\">\n",
    " <h1>Producto de Véctores </h1>\n",
    " <h2>Computación</h2>\n",
    " <h2>Física, Facultad de Ciencias. UNAM </h2>\n",
    " <h3>Celeste Castro Granados</h3>\n",
    " </div>"
   ]
  },
  {
   "cell_type": "markdown",
   "metadata": {},
   "source": [
    "Vamos a definir una fuunción que nos permita multiplicar véctores de nxn, mediante el producto interior o escalar:"
   ]
  },
  {
   "cell_type": "code",
   "execution_count": 16,
   "metadata": {},
   "outputs": [
    {
     "data": {
      "text/plain": [
       "ProductoVectores (generic function with 1 method)"
      ]
     },
     "execution_count": 16,
     "metadata": {},
     "output_type": "execute_result"
    }
   ],
   "source": [
    "function ProductoVectores(N)\n",
    "    α=collect(1:N)\n",
    "    β=collect(1:N)\n",
    "    p=0\n",
    "    i=1\n",
    "for i in 1:N\n",
    "    p = p+α[i]*β[i]\n",
    "end\n",
    "  print(p)  \n",
    "end"
   ]
  },
  {
   "cell_type": "code",
   "execution_count": 17,
   "metadata": {},
   "outputs": [
    {
     "name": "stdout",
     "output_type": "stream",
     "text": [
      "55"
     ]
    }
   ],
   "source": [
    "ProductoVectores(5)"
   ]
  },
  {
   "cell_type": "code",
   "execution_count": 18,
   "metadata": {},
   "outputs": [
    {
     "name": "stdout",
     "output_type": "stream",
     "text": [
      "385"
     ]
    }
   ],
   "source": [
    "ProductoVectores(10)"
   ]
  }
 ],
 "metadata": {
  "kernelspec": {
   "display_name": "Julia 0.6.0",
   "language": "julia",
   "name": "julia-0.6"
  },
  "language_info": {
   "file_extension": ".jl",
   "mimetype": "application/julia",
   "name": "julia",
   "version": "0.6.0"
  }
 },
 "nbformat": 4,
 "nbformat_minor": 2
}
